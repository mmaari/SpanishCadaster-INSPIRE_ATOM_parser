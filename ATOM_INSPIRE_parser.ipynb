{
 "cells": [
  {
   "cell_type": "code",
   "execution_count": null,
   "id": "460a3524",
   "metadata": {},
   "outputs": [],
   "source": [
    "import feedparser"
   ]
  },
  {
   "cell_type": "code",
   "execution_count": null,
   "id": "141ad429",
   "metadata": {},
   "outputs": [],
   "source": [
    "import requests"
   ]
  },
  {
   "cell_type": "code",
   "execution_count": null,
   "id": "be36cbc1",
   "metadata": {},
   "outputs": [],
   "source": [
    "import zipfile"
   ]
  },
  {
   "cell_type": "code",
   "execution_count": null,
   "id": "cb5dea07",
   "metadata": {},
   "outputs": [],
   "source": [
    "import re"
   ]
  },
  {
   "cell_type": "code",
   "execution_count": null,
   "id": "ec4decd0",
   "metadata": {},
   "outputs": [],
   "source": [
    "import os "
   ]
  },
  {
   "cell_type": "code",
   "execution_count": null,
   "id": "d5c1e50d",
   "metadata": {
    "scrolled": false
   },
   "outputs": [],
   "source": [
    "# general link\n",
    "url = \"http://www.catastro.minhap.es/INSPIRE/buildings/ES.SDGC.BU.atom.xml\"\n",
    "feed = feedparser.parse(url)\n",
    "\n",
    "entries = feed[\"entries\"]\n",
    "\n",
    "# limit provinces \n",
    "print(len(entries))\n",
    "\n",
    "pattern_prov = r'[^/]+/[^/]+/(\\d+)/'\n",
    "pattern_mun = r'/(?P<desired_text>[^/]+)$'\n",
    "\n",
    "for entry in entries: # for each province \n",
    "    #print(entry)\n",
    "    # get the province link \n",
    "    prov_link = entry.link\n",
    "    # print(prov_link)\n",
    "    \n",
    "    # in order to save files by province folder: \n",
    "    # extract the province code from prov_link  \n",
    "    match = re.search(pattern_prov, prov_link) \n",
    "    if match:\n",
    "        folder_name = match.group(1)\n",
    "    print(folder_name)\n",
    "    # Create a folder if it doesn't exist\n",
    "    os.makedirs(folder_name, exist_ok=True)\n",
    "    \n",
    "    # parse the feed  \n",
    "    feed = feedparser.parse(prov_link)\n",
    "    # get the list of entries \n",
    "    # get list of links to each municipality of the province \n",
    "    entries = feed[\"entries\"] \n",
    "    \n",
    "    # for each municipality\n",
    "    for entry in entries: \n",
    "        # get the link to each municipality \n",
    "        mun_link = entry.link\n",
    "        # print(mun_link)\n",
    "        \n",
    "        # get file name as text after last / \n",
    "        match = re.search(pattern_mun, mun_link)\n",
    "        if match:\n",
    "            file_name = match.group('desired_text')\n",
    "            # print(file_name)\n",
    "        \n",
    "        # Construct the file path within the folder\n",
    "        file_path = os.path.join(folder_name, file_name)\n",
    "        \n",
    "        # download zip file from url\n",
    "        r = requests.get(mun_link)\n",
    "        with open(file_path, \"wb\") as f:\n",
    "            f.write(r.content)"
   ]
  },
  {
   "cell_type": "code",
   "execution_count": null,
   "id": "3c3af6d5",
   "metadata": {},
   "outputs": [],
   "source": [
    "# from directory \n",
    "# unzip folder \n",
    "with zipfile.ZipFile(\"A.ES.SDGC.BU.02001.zip\", 'r') as zip_ref:\n",
    "    zip_ref.extractall()\n",
    "# Output:\n",
    "# This will extract all files from 'file.zip' out of the folder "
   ]
  }
 ],
 "metadata": {
  "kernelspec": {
   "display_name": "Python 3 (ipykernel)",
   "language": "python",
   "name": "python3"
  },
  "language_info": {
   "codemirror_mode": {
    "name": "ipython",
    "version": 3
   },
   "file_extension": ".py",
   "mimetype": "text/x-python",
   "name": "python",
   "nbconvert_exporter": "python",
   "pygments_lexer": "ipython3",
   "version": "3.9.13"
  }
 },
 "nbformat": 4,
 "nbformat_minor": 5
}
